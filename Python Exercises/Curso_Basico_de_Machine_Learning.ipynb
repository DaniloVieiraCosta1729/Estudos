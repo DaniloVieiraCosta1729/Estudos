{
 "cells": [
  {
   "cell_type": "markdown",
   "metadata": {},
   "source": [
    "# Curso Básico - Machine Learning"
   ]
  },
  {
   "cell_type": "markdown",
   "metadata": {},
   "source": [
    "Conjuntos\n",
    "São da forma:\n",
    "conjunto = {e1, e2, e3, ..., en}, em que todos os elementos do conjunto são únicos, isto é, não há elementos repetidos em um conjunto, tal como é na matemática."
   ]
  },
  {
   "cell_type": "code",
   "execution_count": 2,
   "metadata": {},
   "outputs": [
    {
     "name": "stdout",
     "output_type": "stream",
     "text": [
      "{1, 2, 4, 78}\n"
     ]
    }
   ],
   "source": [
    "lista = [1, 2, 4, 78, 2, 1, 4]\n",
    "conjunto = set(lista)\n",
    "print(conjunto)"
   ]
  },
  {
   "cell_type": "markdown",
   "metadata": {},
   "source": [
    "Como foi visto acima, podemos construir um conjunto a partir de uma lista, atravez do método set(lista).\n",
    "Visível também que o conjunto eliminou os elementos repetidos, como o esperado."
   ]
  },
  {
   "cell_type": "code",
   "execution_count": 10,
   "metadata": {},
   "outputs": [
    {
     "name": "stdout",
     "output_type": "stream",
     "text": [
      "{0, 1}\n"
     ]
    }
   ],
   "source": [
    "from math import fmod\n",
    "\n",
    "conjunto = set({})\n",
    "\n",
    "for i in range(0, 20):\n",
    "    conjunto.add(int(fmod(i, 2)))\n",
    "print(conjunto)"
   ]
  },
  {
   "cell_type": "code",
   "execution_count": 22,
   "metadata": {},
   "outputs": [
    {
     "name": "stdout",
     "output_type": "stream",
     "text": [
      "Digite o seu nome: Ana\n",
      "O seu nome é composto pela letra {'A', 'N'}\n"
     ]
    }
   ],
   "source": [
    "nome = input('Digite o seu nome: ')\n",
    "letras = set(nome.strip().upper())\n",
    "print('O seu nome é composto pela letra', letras)"
   ]
  },
  {
   "cell_type": "markdown",
   "metadata": {},
   "source": [
    "Definindo lista de forma rápida."
   ]
  },
  {
   "cell_type": "code",
   "execution_count": 26,
   "metadata": {},
   "outputs": [
    {
     "name": "stdout",
     "output_type": "stream",
     "text": [
      "[0, 1, 4, 9, 16, 25]\n"
     ]
    }
   ],
   "source": [
    "lista = [i ** 2 for i in range(0, 6)]\n",
    "print(lista)"
   ]
  },
  {
   "cell_type": "markdown",
   "metadata": {},
   "source": [
    "Função map()\n",
    "\n",
    "Aplica a função (que é o seu primeiro argumento) sobre o segundo argumento da função map."
   ]
  },
  {
   "cell_type": "code",
   "execution_count": 1,
   "metadata": {},
   "outputs": [
    {
     "name": "stdout",
     "output_type": "stream",
     "text": [
      "[0, 2, 4, 6, 8, 10]\n",
      "<class 'map'>\n"
     ]
    }
   ],
   "source": [
    "def doisvezes(n):\n",
    "    return n * 2\n",
    "\n",
    "lista = [i for i in range(0, 6)]\n",
    "lista2 = list(map(doisvezes, lista))\n",
    "\n",
    "print(lista2)\n",
    "print(type(map(doisvezes, lista)))"
   ]
  },
  {
   "cell_type": "markdown",
   "metadata": {},
   "source": [
    "Função lambda, que é da forma\n",
    "\n",
    "lambda i: f(i)\n",
    "\n",
    "Agiliza bastante, pois a função lambda nos permite definir uma função genérica em uma linha e, se aliada com a função map, tem o poder de aplicar a função sobre todos os elementos que estão a partir do segundo argumento da map()."
   ]
  },
  {
   "cell_type": "code",
   "execution_count": 36,
   "metadata": {},
   "outputs": [
    {
     "name": "stdout",
     "output_type": "stream",
     "text": [
      "[0, 1, 2, 3, 4, 5]\n"
     ]
    }
   ],
   "source": [
    "lista3 = list(map(lambda i: int(i * 0.5), lista2))\n",
    "print(lista3)"
   ]
  },
  {
   "cell_type": "markdown",
   "metadata": {},
   "source": [
    "Função filter, da forma\n",
    "\n",
    "filter(função, argumentos)\n",
    "\n",
    "Retorna apenas os valores que satisfazem as condições da função."
   ]
  },
  {
   "cell_type": "code",
   "execution_count": 1,
   "metadata": {},
   "outputs": [
    {
     "name": "stdout",
     "output_type": "stream",
     "text": [
      "[2, 4, 6, 8, 10]\n",
      "[0, 2, 4, 6, 8, 10]\n",
      "Se usarmos apenas o map [True, False, True, False, True, False, True, False, True, False, True]\n"
     ]
    }
   ],
   "source": [
    "def par(n):\n",
    "    if n % 2 == 0:\n",
    "        return n\n",
    "    \n",
    "lista = [i for i in range(0,11)]\n",
    "pares = list(filter(par, lista))\n",
    "print(pares)\n",
    "\n",
    "# ou\n",
    "\n",
    "lista1 = list(filter(lambda i: i % 2 == 0, lista))\n",
    "print(lista1)\n",
    "\n",
    "print('Se usarmos apenas o map', list(map(lambda i: i % 2 ==0, lista)))"
   ]
  },
  {
   "cell_type": "code",
   "execution_count": 61,
   "metadata": {},
   "outputs": [
    {
     "name": "stdout",
     "output_type": "stream",
     "text": [
      "[2, 4, 6, 8, 10, 12, 14]\n",
      "[2, 4, 6, 8, 10, 12, 14]\n"
     ]
    }
   ],
   "source": [
    "lista = [i * (-1) ** i for i in range(0, 16)]\n",
    "\n",
    "def positivo(n):\n",
    "    if n > 0:\n",
    "        return n\n",
    "\n",
    "positivos = list(filter(positivo, lista))\n",
    "print(positivos)\n",
    "\n",
    "# ou \n",
    "\n",
    "positivos1 = list(filter(lambda i: i > 0, lista))\n",
    "print(positivos1)"
   ]
  },
  {
   "cell_type": "code",
   "execution_count": 63,
   "metadata": {},
   "outputs": [
    {
     "name": "stdout",
     "output_type": "stream",
     "text": [
      "{'c', 'a', 'b', 'd'}\n",
      "['c', 'a', 'b', 'd']\n"
     ]
    }
   ],
   "source": [
    "palavras = ['a', 'b', 'b', 'c', 'a', 'd']\n",
    "palavrassemduplicadas = set(palavras)\n",
    "print(palavrassemduplicadas)\n",
    "l = list(palavrassemduplicadas)\n",
    "print(l)"
   ]
  },
  {
   "cell_type": "code",
   "execution_count": 72,
   "metadata": {},
   "outputs": [
    {
     "name": "stdout",
     "output_type": "stream",
     "text": [
      "[0, 1, 1, 2, 3, 5, 8, 13, 21, 34, 55]\n",
      "[0.0, 0.5, 0.5, 1.0, 1.5, 2.5, 4.0, 6.5, 10.5, 17.0, 27.5]\n",
      "[0.0, 0.5, 0.5, 1.0, 1.5, 2.5, 4.0, 6.5, 10.5, 17.0, 27.5]\n"
     ]
    }
   ],
   "source": [
    "lista = [int((1/((5) ** 0.5)) * ((((1 + (5 ** 0.5)) / 2) ** i) - ((1 - (5 ** 0.5)) / 2) ** i)) for i in range(0, 11)]\n",
    "divididopordois = list(map(lambda i: i / 2, lista))\n",
    "print(lista)\n",
    "print(divididopordois)\n",
    "\n",
    "# ou\n",
    "\n",
    "def divpor2(n):\n",
    "    return n / 2\n",
    "print(list(map(divpor2, lista)))"
   ]
  },
  {
   "cell_type": "code",
   "execution_count": 79,
   "metadata": {},
   "outputs": [
    {
     "name": "stdout",
     "output_type": "stream",
     "text": [
      "<class 'numpy.ndarray'>\n"
     ]
    }
   ],
   "source": [
    "import numpy as np\n",
    "lista = [i for i in range(1, 5)]\n",
    "array = np.array(lista)\n",
    "print(type(array))"
   ]
  },
  {
   "cell_type": "code",
   "execution_count": 82,
   "metadata": {},
   "outputs": [
    {
     "name": "stdout",
     "output_type": "stream",
     "text": [
      "[[16, 9, 13], [7, 13, 19], [17, 8, 1]]\n",
      "<class 'numpy.ndarray'>\n"
     ]
    },
    {
     "data": {
      "text/plain": [
       "array([[16,  9, 13],\n",
       "       [ 7, 13, 19],\n",
       "       [17,  8,  1]])"
      ]
     },
     "execution_count": 82,
     "metadata": {},
     "output_type": "execute_result"
    }
   ],
   "source": [
    "from random import randint\n",
    "\n",
    "matriz = [[randint(1, 20), randint(1, 20), randint(1, 20)], [randint(1, 20), randint(1, 20), randint(1, 20)],\n",
    "         [randint(1, 20), randint(1, 20), randint(1, 20)]]\n",
    "print(matriz)\n",
    "array = np.array(matriz)\n",
    "print(type(array))\n",
    "array"
   ]
  },
  {
   "cell_type": "code",
   "execution_count": 83,
   "metadata": {},
   "outputs": [
    {
     "data": {
      "text/plain": [
       "array([0, 1, 2, 3, 4])"
      ]
     },
     "execution_count": 83,
     "metadata": {},
     "output_type": "execute_result"
    }
   ],
   "source": [
    "array = np.arange(5)\n",
    "array"
   ]
  },
  {
   "cell_type": "code",
   "execution_count": 84,
   "metadata": {},
   "outputs": [
    {
     "data": {
      "text/plain": [
       "array([ 5,  8, 11, 14, 17])"
      ]
     },
     "execution_count": 84,
     "metadata": {},
     "output_type": "execute_result"
    }
   ],
   "source": [
    "np.arange(5, 20, 3)"
   ]
  },
  {
   "cell_type": "code",
   "execution_count": 85,
   "metadata": {},
   "outputs": [
    {
     "data": {
      "text/plain": [
       "array([[0., 0., 0.],\n",
       "       [0., 0., 0.],\n",
       "       [0., 0., 0.]])"
      ]
     },
     "execution_count": 85,
     "metadata": {},
     "output_type": "execute_result"
    }
   ],
   "source": [
    "np.zeros((3, 3))"
   ]
  },
  {
   "cell_type": "code",
   "execution_count": 88,
   "metadata": {},
   "outputs": [
    {
     "data": {
      "text/plain": [
       "array([[1., 1., 1., 1.],\n",
       "       [1., 1., 1., 1.],\n",
       "       [1., 1., 1., 1.],\n",
       "       [1., 1., 1., 1.]])"
      ]
     },
     "execution_count": 88,
     "metadata": {},
     "output_type": "execute_result"
    }
   ],
   "source": [
    "np.ones((4, 4))"
   ]
  },
  {
   "cell_type": "code",
   "execution_count": 91,
   "metadata": {},
   "outputs": [
    {
     "data": {
      "text/plain": [
       "array([ 0.        ,  0.12121212,  0.24242424,  0.36363636,  0.48484848,\n",
       "        0.60606061,  0.72727273,  0.84848485,  0.96969697,  1.09090909,\n",
       "        1.21212121,  1.33333333,  1.45454545,  1.57575758,  1.6969697 ,\n",
       "        1.81818182,  1.93939394,  2.06060606,  2.18181818,  2.3030303 ,\n",
       "        2.42424242,  2.54545455,  2.66666667,  2.78787879,  2.90909091,\n",
       "        3.03030303,  3.15151515,  3.27272727,  3.39393939,  3.51515152,\n",
       "        3.63636364,  3.75757576,  3.87878788,  4.        ,  4.12121212,\n",
       "        4.24242424,  4.36363636,  4.48484848,  4.60606061,  4.72727273,\n",
       "        4.84848485,  4.96969697,  5.09090909,  5.21212121,  5.33333333,\n",
       "        5.45454545,  5.57575758,  5.6969697 ,  5.81818182,  5.93939394,\n",
       "        6.06060606,  6.18181818,  6.3030303 ,  6.42424242,  6.54545455,\n",
       "        6.66666667,  6.78787879,  6.90909091,  7.03030303,  7.15151515,\n",
       "        7.27272727,  7.39393939,  7.51515152,  7.63636364,  7.75757576,\n",
       "        7.87878788,  8.        ,  8.12121212,  8.24242424,  8.36363636,\n",
       "        8.48484848,  8.60606061,  8.72727273,  8.84848485,  8.96969697,\n",
       "        9.09090909,  9.21212121,  9.33333333,  9.45454545,  9.57575758,\n",
       "        9.6969697 ,  9.81818182,  9.93939394, 10.06060606, 10.18181818,\n",
       "       10.3030303 , 10.42424242, 10.54545455, 10.66666667, 10.78787879,\n",
       "       10.90909091, 11.03030303, 11.15151515, 11.27272727, 11.39393939,\n",
       "       11.51515152, 11.63636364, 11.75757576, 11.87878788, 12.        ])"
      ]
     },
     "execution_count": 91,
     "metadata": {},
     "output_type": "execute_result"
    }
   ],
   "source": [
    "np.linspace(0, 12, 100) # numpy.linspace(a, b, c) gera um array de c elementos que vão de a até b. Pode servir como uma\n",
    "# partição de [a, b]"
   ]
  },
  {
   "cell_type": "code",
   "execution_count": 92,
   "metadata": {},
   "outputs": [
    {
     "data": {
      "text/plain": [
       "array([[1., 0., 0., 0.],\n",
       "       [0., 1., 0., 0.],\n",
       "       [0., 0., 1., 0.],\n",
       "       [0., 0., 0., 1.]])"
      ]
     },
     "execution_count": 92,
     "metadata": {},
     "output_type": "execute_result"
    }
   ],
   "source": [
    "np.eye(4) # gera uma matriz identidade quadrada. de ordem n, np.eye(n)"
   ]
  },
  {
   "cell_type": "code",
   "execution_count": 4,
   "metadata": {},
   "outputs": [
    {
     "name": "stdout",
     "output_type": "stream",
     "text": [
      "limite inferior: 0\n",
      "limite superior: 12\n",
      "partições: 50000\n",
      "[Numérica] Integral de x² de 0.0 até 12.0 = 576.0057601152033\n",
      "[Analítica] Integral de x² de 0.0 até 12.0 = 576.0\n",
      "O erro da integral númerica, para 50000 partições é 1.0000200005756534e-05\n"
     ]
    }
   ],
   "source": [
    "def square(n):\n",
    "    return n ** 2\n",
    "def integration(a, b, partitions):\n",
    "    import numpy as np\n",
    "    I = 0\n",
    "    for i in np.linspace(a, b, partitions):\n",
    "        I += square(i) * (b-a) / partitions\n",
    "    return I\n",
    "a = float(input('limite inferior: '))\n",
    "b = float(input('limite superior: '))\n",
    "p = int(input('partições: '))\n",
    "print(f'[Numérica] Integral de x² de {a} até {b} = {integration(a, b, p)}')\n",
    "print(f'[Analítica] Integral de x² de {a} até {b} = {((b ** 3) -(a ** 3)) / 3}')\n",
    "print(f'O erro da integral númerica, para {p} partições é {(integration(a, b, p)-(((b ** 3) -(a ** 3)) / 3))/((((b ** 3) -(a ** 3)) / 3))}')"
   ]
  },
  {
   "cell_type": "markdown",
   "metadata": {},
   "source": [
    "Números aleatórios rand and randn\n"
   ]
  },
  {
   "cell_type": "code",
   "execution_count": 8,
   "metadata": {},
   "outputs": [
    {
     "data": {
      "text/plain": [
       "array([0.48620169, 0.07091809, 0.70980299, 0.83225674, 0.22895048,\n",
       "       0.1019326 , 0.15975186, 0.58012242, 0.56957875])"
      ]
     },
     "execution_count": 8,
     "metadata": {},
     "output_type": "execute_result"
    }
   ],
   "source": [
    "from random import randint\n",
    "import numpy as np\n",
    "np.random.rand(randint(1, 11))"
   ]
  },
  {
   "cell_type": "code",
   "execution_count": 11,
   "metadata": {},
   "outputs": [
    {
     "data": {
      "text/plain": [
       "array([[0.26361147, 0.07355426, 0.69382488],\n",
       "       [0.83602963, 0.2064123 , 0.40657581],\n",
       "       [0.91530167, 0.40937881, 0.72061685]])"
      ]
     },
     "execution_count": 11,
     "metadata": {},
     "output_type": "execute_result"
    }
   ],
   "source": [
    "np.random.rand(3, 3)"
   ]
  },
  {
   "cell_type": "code",
   "execution_count": 13,
   "metadata": {},
   "outputs": [
    {
     "data": {
      "text/plain": [
       "array([[-0.43005553, -1.08698057, -0.35115082, -0.24069666],\n",
       "       [-0.40421656,  1.61219532,  1.01172309,  1.67525467],\n",
       "       [-0.16671132, -0.73135302,  2.14633026, -0.61948865],\n",
       "       [-1.39108422,  0.13420069, -1.22995179, -1.98315295]])"
      ]
     },
     "execution_count": 13,
     "metadata": {},
     "output_type": "execute_result"
    }
   ],
   "source": [
    "np.random.randn(4,4)"
   ]
  },
  {
   "cell_type": "code",
   "execution_count": 14,
   "metadata": {},
   "outputs": [
    {
     "data": {
      "text/plain": [
       "array([9, 1, 7])"
      ]
     },
     "execution_count": 14,
     "metadata": {},
     "output_type": "execute_result"
    }
   ],
   "source": [
    "np.random.randint(1, 10, 3)"
   ]
  },
  {
   "cell_type": "code",
   "execution_count": 25,
   "metadata": {},
   "outputs": [
    {
     "data": {
      "text/plain": [
       "array([[84,  4, 45],\n",
       "       [20, 83, 66],\n",
       "       [35, 10, 77]])"
      ]
     },
     "execution_count": 25,
     "metadata": {},
     "output_type": "execute_result"
    }
   ],
   "source": [
    "array = np.random.randint(0, 100, 9)\n",
    "matriz = array.reshape(3,3) # Constrói uma matriz com o array que foi definido préviamente.\n",
    "matriz"
   ]
  },
  {
   "cell_type": "raw",
   "metadata": {},
   "source": [
    "Máximo e mínimo elemento de um array."
   ]
  },
  {
   "cell_type": "code",
   "execution_count": 4,
   "metadata": {},
   "outputs": [
    {
     "data": {
      "text/plain": [
       "array([[1, 2, 3],\n",
       "       [4, 5, 6],\n",
       "       [7, 8, 9]])"
      ]
     },
     "execution_count": 4,
     "metadata": {},
     "output_type": "execute_result"
    }
   ],
   "source": [
    "vetor = np.array([1, 2, 3, 4, 5, 6, 7, 8, 9])\n",
    "matriz = vetor.reshape(3, 3)\n",
    "matriz"
   ]
  },
  {
   "cell_type": "code",
   "execution_count": 33,
   "metadata": {},
   "outputs": [
    {
     "name": "stdout",
     "output_type": "stream",
     "text": [
      "42 [21 21 17 42  1 40 15 28 38] 3\n"
     ]
    }
   ],
   "source": [
    "vetor = np.random.randint(1, 50, 9)\n",
    "maior_coordenada = vetor.max()\n",
    "print(maior_coordenada, vetor, vetor.argmax())\n",
    "posiçao_do_valor_maximo = vetor.argmax()"
   ]
  },
  {
   "cell_type": "code",
   "execution_count": 34,
   "metadata": {},
   "outputs": [
    {
     "name": "stdout",
     "output_type": "stream",
     "text": [
      "1 4 [21 21 17 42  1 40 15 28 38]\n"
     ]
    }
   ],
   "source": [
    "m_cord = vetor.min()\n",
    "p_m_cord = vetor.argmin()\n",
    "print(m_cord, p_m_cord, vetor)"
   ]
  },
  {
   "cell_type": "code",
   "execution_count": 38,
   "metadata": {},
   "outputs": [
    {
     "name": "stdout",
     "output_type": "stream",
     "text": [
      "0, 9, 8, 3.\n",
      "(array([0, 1, 2, 3]), array([0, 2, 4, 6, 8]))\n"
     ]
    }
   ],
   "source": [
    "vetor = np.arange(0, 10)\n",
    "print(f'{vetor[0]}, {vetor[-1]}, {vetor[-2]}, {vetor[3]}.\\n{vetor[0:4], vetor[0:9:2]}')"
   ]
  },
  {
   "cell_type": "code",
   "execution_count": 40,
   "metadata": {},
   "outputs": [
    {
     "data": {
      "text/plain": [
       "array([ 6, 10, 14])"
      ]
     },
     "execution_count": 40,
     "metadata": {},
     "output_type": "execute_result"
    }
   ],
   "source": [
    "vetor2 = 2 * vetor[3:9:2]\n",
    "vetor2"
   ]
  },
  {
   "cell_type": "code",
   "execution_count": 10,
   "metadata": {},
   "outputs": [
    {
     "data": {
      "text/plain": [
       "array([[1, 2, 3],\n",
       "       [4, 5, 6],\n",
       "       [7, 8, 9]])"
      ]
     },
     "execution_count": 10,
     "metadata": {},
     "output_type": "execute_result"
    }
   ],
   "source": [
    "vetor = np.arange(1, 10)\n",
    "matriz = vetor.reshape(3, 3)\n",
    "matriz"
   ]
  },
  {
   "cell_type": "code",
   "execution_count": 46,
   "metadata": {},
   "outputs": [
    {
     "data": {
      "text/plain": [
       "array([[ 2,  4,  6],\n",
       "       [ 8, 10, 12]])"
      ]
     },
     "execution_count": 46,
     "metadata": {},
     "output_type": "execute_result"
    }
   ],
   "source": [
    "2 * matriz[:2]"
   ]
  },
  {
   "cell_type": "code",
   "execution_count": 50,
   "metadata": {},
   "outputs": [
    {
     "data": {
      "text/plain": [
       "array([[1],\n",
       "       [2],\n",
       "       [3]])"
      ]
     },
     "execution_count": 50,
     "metadata": {},
     "output_type": "execute_result"
    }
   ],
   "source": [
    "matriz[0].reshape(3, 1)"
   ]
  },
  {
   "cell_type": "code",
   "execution_count": 53,
   "metadata": {},
   "outputs": [
    {
     "data": {
      "text/plain": [
       "8"
      ]
     },
     "execution_count": 53,
     "metadata": {},
     "output_type": "execute_result"
    }
   ],
   "source": [
    "matriz[0][0]\n",
    "matriz[2][1]"
   ]
  },
  {
   "cell_type": "code",
   "execution_count": 54,
   "metadata": {},
   "outputs": [
    {
     "data": {
      "text/plain": [
       "array([1, 4, 9])"
      ]
     },
     "execution_count": 54,
     "metadata": {},
     "output_type": "execute_result"
    }
   ],
   "source": [
    "matriz[0] * matriz[0] "
   ]
  },
  {
   "cell_type": "code",
   "execution_count": 65,
   "metadata": {},
   "outputs": [
    {
     "data": {
      "text/plain": [
       "array([[ 1,  4,  9],\n",
       "       [ 4, 10, 18],\n",
       "       [ 7, 16, 27]])"
      ]
     },
     "execution_count": 65,
     "metadata": {},
     "output_type": "execute_result"
    }
   ],
   "source": [
    "def mult(m, n):\n",
    "    import numpy as np\n",
    "    l = []\n",
    "    for i in range(0, 3):\n",
    "        l.append(m[i] * n.reshape(1, 3))\n",
    "    return np.array(l).reshape(3, 3)\n",
    "    \n",
    "mult(matriz, matriz[0])"
   ]
  },
  {
   "cell_type": "code",
   "execution_count": 66,
   "metadata": {},
   "outputs": [
    {
     "data": {
      "text/plain": [
       "3"
      ]
     },
     "execution_count": 66,
     "metadata": {},
     "output_type": "execute_result"
    }
   ],
   "source": [
    "len(matriz[0])"
   ]
  },
  {
   "cell_type": "code",
   "execution_count": 11,
   "metadata": {},
   "outputs": [
    {
     "data": {
      "text/plain": [
       "array([[ 4, 10, 18],\n",
       "       [16, 25, 36],\n",
       "       [28, 40, 54]])"
      ]
     },
     "execution_count": 11,
     "metadata": {},
     "output_type": "execute_result"
    }
   ],
   "source": [
    "def multiplicaçao(m, n):\n",
    "    import numpy as np\n",
    "    l = []\n",
    "    if len(m[0]) == len(n):\n",
    "        for i in range(0, len(m)):\n",
    "            l.append(m[i] * n.reshape(1, len(n)))\n",
    "        return np.array(l).reshape(len(n), len(m))\n",
    "    else:\n",
    "        print(f'As matrizes {m} e {n} não podem ser multiplicadas, pois o número de colunas da primeira é diferente de linhas da segunda')\n",
    "multiplicaçao(matriz, matriz[1]) "
   ]
  },
  {
   "cell_type": "code",
   "execution_count": 17,
   "metadata": {},
   "outputs": [
    {
     "data": {
      "text/plain": [
       "array([[0.000000e+00, 5.900000e+01, 7.100000e+01, 8.600000e+01,\n",
       "        1.650000e+02],\n",
       "       [1.450000e+02, 4.720000e+02, 9.230000e+02, 9.030000e+02,\n",
       "        1.870000e+03],\n",
       "       [1.595000e+03, 5.251000e+03, 1.022400e+04, 1.001900e+04,\n",
       "        2.073500e+04],\n",
       "       [1.769000e+04, 5.823300e+04, 1.133870e+05, 1.111120e+05,\n",
       "        2.299550e+05],\n",
       "       [1.961850e+05, 6.458140e+05, 1.257481e+06, 1.232251e+06,\n",
       "        2.550240e+06]])"
      ]
     },
     "execution_count": 17,
     "metadata": {},
     "output_type": "execute_result"
    }
   ],
   "source": [
    "import numpy as np\n",
    "def array_Fb(n):\n",
    "    import numpy as np\n",
    "    vetor = np.array([(1 / ((5) ** 0.5)) * (((1 + ((5) ** 0.5)) / 2) ** i - ((1 - ((5) ** 0.5)) / 2) ** i) for i in \n",
    "                     range(0, n)])\n",
    "    return vetor\n",
    "matriz1 = array_Fb(25).reshape(5, 5)\n",
    "matriz2 = np.random.randint(1, 100, 5)\n",
    "multiplicaçao(matriz1, matriz2)"
   ]
  },
  {
   "cell_type": "code",
   "execution_count": null,
   "metadata": {},
   "outputs": [],
   "source": []
  }
 ],
 "metadata": {
  "kernelspec": {
   "display_name": "Python 3",
   "language": "python",
   "name": "python3"
  },
  "language_info": {
   "codemirror_mode": {
    "name": "ipython",
    "version": 3
   },
   "file_extension": ".py",
   "mimetype": "text/x-python",
   "name": "python",
   "nbconvert_exporter": "python",
   "pygments_lexer": "ipython3",
   "version": "3.8.3"
  }
 },
 "nbformat": 4,
 "nbformat_minor": 4
}
