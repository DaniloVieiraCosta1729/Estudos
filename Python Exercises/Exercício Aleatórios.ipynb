{
 "cells": [
  {
   "cell_type": "code",
   "execution_count": 1,
   "metadata": {},
   "outputs": [
    {
     "name": "stdout",
     "output_type": "stream",
     "text": [
      "Hello, World\n"
     ]
    }
   ],
   "source": [
    "print('Hello, World')"
   ]
  },
  {
   "cell_type": "code",
   "execution_count": 2,
   "metadata": {},
   "outputs": [
    {
     "name": "stdout",
     "output_type": "stream",
     "text": [
      "1\n",
      "2\n",
      "3\n",
      "4\n",
      "5\n",
      "6\n",
      "7\n",
      "8\n",
      "9\n",
      "10\n"
     ]
    }
   ],
   "source": [
    "for i in range(1, 11):\n",
    "    print(i)"
   ]
  },
  {
   "cell_type": "code",
   "execution_count": 14,
   "metadata": {},
   "outputs": [
    {
     "name": "stdout",
     "output_type": "stream",
     "text": [
      "Mostrar os termos da seg. de fibonacci até o termo: 70\n",
      "0 -- 0\n",
      "1 -- 1\n",
      "2 -- 1\n",
      "3 -- 2\n",
      "4 -- 3\n",
      "5 -- 5\n",
      "6 -- 8\n",
      "7 -- 13\n",
      "8 -- 21\n",
      "9 -- 34\n",
      "10 -- 55\n",
      "11 -- 89\n",
      "12 -- 144\n",
      "13 -- 233\n",
      "14 -- 377\n",
      "15 -- 610\n",
      "16 -- 987\n",
      "17 -- 1597\n",
      "18 -- 2584\n",
      "19 -- 4181\n",
      "20 -- 6765\n",
      "21 -- 10946\n",
      "22 -- 17711\n",
      "23 -- 28657\n",
      "24 -- 46368\n",
      "25 -- 75025\n",
      "26 -- 121393\n",
      "27 -- 196418\n",
      "28 -- 317811\n",
      "29 -- 514229\n",
      "30 -- 832040\n",
      "31 -- 1346269\n",
      "32 -- 2178309\n",
      "33 -- 3524578\n",
      "34 -- 5702887\n",
      "35 -- 9227465\n",
      "36 -- 14930352\n",
      "37 -- 24157817\n",
      "38 -- 39088169\n",
      "39 -- 63245986\n",
      "40 -- 102334155\n",
      "41 -- 165580141\n",
      "42 -- 267914296\n",
      "43 -- 433494437\n",
      "44 -- 701408733\n",
      "45 -- 1134903170\n",
      "46 -- 1836311903\n",
      "47 -- 2971215073\n",
      "48 -- 4807526976\n",
      "49 -- 7778742049\n",
      "50 -- 12586269025\n",
      "51 -- 20365011074\n",
      "52 -- 32951280099\n",
      "53 -- 53316291173\n",
      "54 -- 86267571272\n",
      "55 -- 139583862445\n",
      "56 -- 225851433717\n",
      "57 -- 365435296162\n",
      "58 -- 591286729879\n",
      "59 -- 956722026041\n",
      "60 -- 1548008755920\n",
      "61 -- 2504730781961\n",
      "62 -- 4052739537881\n",
      "63 -- 6557470319842\n",
      "64 -- 10610209857723\n",
      "65 -- 17167680177565\n",
      "66 -- 27777890035288\n",
      "67 -- 44945570212853\n",
      "68 -- 72723460248141\n",
      "69 -- 117669030460994\n",
      "70 -- 190392490709135\n"
     ]
    }
   ],
   "source": [
    "def fibonacci(n):\n",
    "    for i in range(0, n + 1):\n",
    "        print(i, '--', int((1/((5) ** 0.5)) * ((((1 + (5 ** 0.5)) / 2) ** i) - ((1 - (5 ** 0.5)) / 2) ** i)))\n",
    "n = int(input('Mostrar os termos da seg. de fibonacci até o termo: '))\n",
    "fibonacci(n)"
   ]
  },
  {
   "cell_type": "code",
   "execution_count": 1,
   "metadata": {},
   "outputs": [
    {
     "name": "stdout",
     "output_type": "stream",
     "text": [
      "Os números primos entre 0 e 20, são:\n",
      "2\n",
      "3\n",
      "5\n",
      "7\n",
      "11\n",
      "13\n",
      "17\n",
      "19\n"
     ]
    }
   ],
   "source": [
    "from math import fmod\n",
    "\n",
    "teste = []\n",
    "\n",
    "def primos(n):\n",
    "    for i in range(2, n + 1):\n",
    "        for j in range(2, i):\n",
    "            if fmod(i, j) == 0:\n",
    "                teste.append(1)\n",
    "        if teste == []:\n",
    "            print(i)\n",
    "        else:\n",
    "            teste.clear()\n",
    "            pass\n",
    "n = int(input('Digite um número: '))\n",
    "print(f'Os números primos entre 0 e {n}, são:')\n",
    "primos(n)"
   ]
  },
  {
   "cell_type": "code",
   "execution_count": 26,
   "metadata": {},
   "outputs": [
    {
     "name": "stdout",
     "output_type": "stream",
     "text": [
      "Digite um número: 5\n",
      "Digite um número: 25\n",
      "Os números primos entre 5 e 25, são:\n",
      "5\n",
      "7\n",
      "11\n",
      "13\n",
      "17\n",
      "19\n",
      "23\n"
     ]
    }
   ],
   "source": [
    "from math import fmod\n",
    "\n",
    "teste = []\n",
    "\n",
    "def primos(m, n):\n",
    "    for i in range(m, n + 1):\n",
    "        for j in range(2, i):\n",
    "            if fmod(i, j) == 0:\n",
    "                teste.append(1)\n",
    "        if teste == []:\n",
    "            print(i)\n",
    "        else:\n",
    "            teste.clear()\n",
    "            pass\n",
    "\n",
    "m = int(input('Digite um número: '))\n",
    "n = int(input('Digite um número: '))\n",
    "print(f'Os números primos entre {m} e {n}, são:')\n",
    "primos(m, n)"
   ]
  },
  {
   "cell_type": "code",
   "execution_count": 2,
   "metadata": {},
   "outputs": [
    {
     "name": "stdout",
     "output_type": "stream",
     "text": [
      "Digite um número: 7\n",
      "2\n"
     ]
    }
   ],
   "source": [
    "# número de divisores positivos, incluindo 1 e o próprio.\n",
    "from math import fmod\n",
    "\n",
    "def numdiv(n):\n",
    "    num = 0\n",
    "    for i in range(1, n + 1):\n",
    "        if fmod(n, i) == 0:\n",
    "            num += 1\n",
    "        else:\n",
    "            pass\n",
    "    print(num)\n",
    "\n",
    "n = int(input('Digite um número: '))\n",
    "numdiv(n)"
   ]
  },
  {
   "cell_type": "markdown",
   "metadata": {},
   "source": []
  },
  {
   "cell_type": "code",
   "execution_count": 12,
   "metadata": {},
   "outputs": [],
   "source": [
    "from sympy import *\n",
    "\n",
    "init_printing(pretty_print = True)\n",
    "x = Symbol('x')\n",
    "y = Function"
   ]
  },
  {
   "cell_type": "code",
   "execution_count": 22,
   "metadata": {},
   "outputs": [
    {
     "data": {
      "image/png": "[encoded data removed]",
      "text/latex": [
       "$\\displaystyle 1 - x - \\frac{x^{2}}{2} + \\frac{x^{3}}{6} + \\frac{x^{4}}{24} - \\frac{x^{5}}{120} - \\frac{x^{6}}{720} + \\frac{x^{7}}{5040} + \\frac{x^{8}}{40320} - \\frac{x^{9}}{362880} + O\\left(x^{10}\\right)$"
      ],
      "text/plain": [
       "         2    3    4     5     6     7       8       9           \n",
       "        x    x    x     x     x     x       x       x       ⎛ 10⎞\n",
       "1 - x - ── + ── + ── - ─── - ─── + ──── + ───── - ────── + O⎝x  ⎠\n",
       "        2    6    24   120   720   5040   40320   362880         "
      ]
     },
     "execution_count": 22,
     "metadata": {},
     "output_type": "execute_result"
    }
   ],
   "source": [
    "from sympy import *\n",
    "\n",
    "init_printing(pretty_print=True)\n",
    "x = Symbol(\"x\")\n",
    "a = Symbol(\"a\")\n",
    "b = Symbol(\"b\")\n",
    "\n",
    "series(cos(x), x, 0, 10) - (series(sin(x), x, 0, 10))"
   ]
  },
  {
   "cell_type": "code",
   "execution_count": 23,
   "metadata": {},
   "outputs": [
    {
     "data": {
      "image/png": "[encoded data removed]",
      "text/latex": [
       "$\\displaystyle \\int\\limits_{a}^{b} x \\log{\\left(x \\right)}\\, dx$"
      ],
      "text/plain": [
       "b            \n",
       "⌠            \n",
       "⎮ x⋅log(x) dx\n",
       "⌡            \n",
       "a            "
      ]
     },
     "execution_count": 23,
     "metadata": {},
     "output_type": "execute_result"
    }
   ],
   "source": [
    "Integral(x * ln(x), (x, a, b))"
   ]
  },
  {
   "cell_type": "markdown",
   "metadata": {},
   "source": [
    "# Sistemas MASSA - MOLA - AMORTECEDOR"
   ]
  },
  {
   "cell_type": "markdown",
   "metadata": {},
   "source": [
    "Proposta: Fornece um formulário que, ao ser suficientemente preenchido com informações, inicia uma simulação de um sistema massa-mola-amortecedor. A simulação deve aprensentar uma animação do sistema e a equação de movimento, bem como a solução passa-a-passo da equação diferencial e deve especifícar o tipo de modelo que foi resolvido."
   ]
  },
  {
   "cell_type": "code",
   "execution_count": null,
   "metadata": {},
   "outputs": [],
   "source": []
  }
 ],
 "metadata": {
  "kernelspec": {
   "display_name": "Python 3",
   "language": "python",
   "name": "python3"
  },
  "language_info": {
   "codemirror_mode": {
    "name": "ipython",
    "version": 3
   },
   "file_extension": ".py",
   "mimetype": "text/x-python",
   "name": "python",
   "nbconvert_exporter": "python",
   "pygments_lexer": "ipython3",
   "version": "3.9.9"
  }
 },
 "nbformat": 4,
 "nbformat_minor": 4
}
