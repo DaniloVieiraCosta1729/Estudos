{
 "cells": [
  {
   "cell_type": "code",
   "execution_count": 1,
   "metadata": {},
   "outputs": [
    {
     "data": {
      "text/plain": [
       "[<matplotlib.lines.Line2D at 0x1f15fd2e730>]"
      ]
     },
     "execution_count": 1,
     "metadata": {},
     "output_type": "execute_result"
    },
    {
     "data": {
      "image/png": "[encoded data removed]",
      "text/plain": [
       "<Figure size 432x288 with 1 Axes>"
      ]
     },
     "metadata": {
      "needs_background": "light"
     },
     "output_type": "display_data"
    }
   ],
   "source": [
    "import matplotlib.pyplot as plt\n",
    "import numpy as np\n",
    "from sympy import *\n",
    "\n",
    "x = np.linspace(2, 9, 12)\n",
    "y = x ** 2\n",
    "plt.plot(x, y)"
   ]
  },
  {
   "cell_type": "code",
   "execution_count": 9,
   "metadata": {},
   "outputs": [
    {
     "name": "stdout",
     "output_type": "stream",
     "text": [
      "Digite um número natural: 12\n",
      "Deseja converter o número para a base binário, octal ou hexadecimal?\n",
      "Digite:Hexadecimal\n",
      "C\n"
     ]
    }
   ],
   "source": [
    "from math import fmod\n",
    "\n",
    "n = int(input('Digite um número natural: '))\n",
    "base = input('Deseja converter o número para a base binário, octal ou hexadecimal?\\nDigite:')\n",
    "\n",
    "if (base.upper() == 'BINÁRIO') or (base.upper()== 'BINARIO') or (base.upper()== '2'):\n",
    "    algarismos = []\n",
    "    q = n\n",
    "    while q >= 2:\n",
    "        algarismos.insert(0, str(int(fmod(q, 2))))\n",
    "        q = q // 2\n",
    "    algarismos.insert(0, str(q))\n",
    "    print(''.join(algarismos))\n",
    "elif (base.upper()== 'OCTAL') or (base == '8'):\n",
    "    algarismos = []\n",
    "    q = n\n",
    "    while q >= 8:\n",
    "        algarismos.insert(0, str(int(fmod(q, 8))))\n",
    "        q = q // 8\n",
    "    algarismos.insert(0, str(q))\n",
    "    print(''.join(algarismos))\n",
    "elif (base.upper()== 'HEXADECIMAL') or (base == '16'):\n",
    "    hexa = {15: 'F', 14: 'E', 13: 'D', 12: 'C', 11: 'B', 10: 'A', 9: 9, 8: 8, 7: 7, 6: 6, 5: 5, 4: 4, 3: 3, 2: 2, 1: 1, 0: 0}\n",
    "    algarismos = []\n",
    "    q = n\n",
    "    if q >= 16:\n",
    "        while q >= 16:\n",
    "            algarismos.insert(0, str(hexa[int(fmod(q, 16))]))\n",
    "            q = q // 16\n",
    "        algarismos.insert(0, str(hexa[q]))\n",
    "        print(''.join(algarismos))\n",
    "    else:\n",
    "        print(hexa[q])"
   ]
  },
  {
   "cell_type": "code",
   "execution_count": 11,
   "metadata": {},
   "outputs": [
    {
     "name": "stdout",
     "output_type": "stream",
     "text": [
      "Collecting PySimpleGUI\n",
      "  Downloading PySimpleGUI-4.34.0-py3-none-any.whl (243 kB)\n",
      "Installing collected packages: PySimpleGUI\n",
      "Successfully installed PySimpleGUI-4.34.0\n",
      "Note: you may need to restart the kernel to use updated packages.\n"
     ]
    }
   ],
   "source": [
    "pip install PySimpleGUI"
   ]
  },
  {
   "cell_type": "code",
   "execution_count": null,
   "metadata": {},
   "outputs": [],
   "source": [
    "import PySimpleGUI as sg\n",
    "from math import fmod\n",
    "\n",
    "def deci_binario(n):\n",
    "\n",
    "    algarismos = []\n",
    "    q = n\n",
    "    while q >= 2:\n",
    "        algarismos.insert(0, str(int(fmod(q, 2))))\n",
    "        q = q // 2\n",
    "    algarismos.insert(0, str(q))\n",
    "    return ''.join(algarismos)\n",
    "def deci_octal(n):\n",
    "    algarismos = []\n",
    "    q = n\n",
    "    while q >= 8:\n",
    "        algarismos.insert(0, str(int(fmod(q, 8))))\n",
    "        q = q // 8\n",
    "    algarismos.insert(0, str(q))\n",
    "    return ''.join(algarismos)\n",
    "def deci_hexa(n):\n",
    "    hexa = {15: 'F', 14: 'E', 13: 'D', 12: 'C', 11: 'B', 10: 'A', 9: 9, 8: 8, 7: 7, 6: 6, 5: 5, 4: 4, 3: 3, 2: 2, 1: 1,\n",
    "            0: 0}\n",
    "    algarismos = []\n",
    "    q = n\n",
    "    while q >= 16:\n",
    "        algarismos.insert(0, str(hexa[int(fmod(q, 16))]))\n",
    "        q = q // 16\n",
    "    algarismos.insert(0, str(hexa[q]))\n",
    "    return ''.join(algarismos)\n",
    "def binario_deci(n):\n",
    "    mag = []\n",
    "    i = 0\n",
    "    j = 0\n",
    "    for k in n:\n",
    "        mag.append(k)\n",
    "    while len(mag) - i > 0:\n",
    "        x = (2 ** (len(mag) - i)) * int(mag[i])\n",
    "        j = j + x\n",
    "        i = i + 1\n",
    "    return int(j / 2)\n",
    "def octal_deci(n):\n",
    "    mag = []\n",
    "    i = 0\n",
    "    j = 0\n",
    "    for k in n:\n",
    "        mag.append(k)\n",
    "    while len(mag) - i > 0:\n",
    "        x = (8 ** (len(mag) - i)) * int(mag[i])\n",
    "        j = j + x\n",
    "        i = i + 1\n",
    "    return int(j / 8)\n",
    "def hexa_deci(n):\n",
    "    hexa = {'F': 15, 'E': 14, 'D': 13, 'C': 12, 'B': 11, 'A': 10, 9: 9, 8: 8, 7: 7, 6: 6, 5: 5, 4: 4, 3: 3, 2: 2, 1: 1,\n",
    "            0: 0}\n",
    "    mag = []\n",
    "    i = 0\n",
    "    j = 0\n",
    "    for k in n:\n",
    "        if k.isnumeric():\n",
    "            mag.append(hexa[int(k)])\n",
    "        else:\n",
    "            mag.append(hexa[k])\n",
    "    while len(mag) - i > 0:\n",
    "        x = (16 ** (len(mag) - i)) * int(mag[i])\n",
    "        j = j + x\n",
    "        i = i + 1\n",
    "    return int(j / 16)\n",
    "layout = [\n",
    "    [sg.Text('Digite o valor e clique no botão que corresponde a base de entrada.')],\n",
    "    [sg.InputText()],\n",
    "    [sg.Button('Decimal'), sg.Button('Binário'), sg.Button('Octal'), sg.Button('Hexadecimal')],\n",
    "    [sg.Button('Cancelar')]\n",
    "]\n",
    "janela1 = sg.Window('Conversor de Base', layout)\n",
    "while True:\n",
    "    events, values = janela1.read()\n",
    "    if (events == 'Cancelar') or (events == sg.WIN_CLOSED):\n",
    "        break\n",
    "    elif events == 'Decimal':\n",
    "        n = int(values[0])\n",
    "        binario = 'Binário ' + str(deci_binario(n))\n",
    "        octal = 'Octal ' + str(deci_octal(n))\n",
    "        hexadecimal = 'Hexadecimal ' + str(deci_hexa(n))\n",
    "        sg.Window('Conversor de Base', [\n",
    "            [sg.Text(binario)], [sg.Text(octal)], [sg.Text(hexadecimal)]\n",
    "        ]).read()\n",
    "    elif events == 'Octal':\n",
    "        n = str(values[0])\n",
    "        binario = 'Binário ' + str(deci_binario(int(octal_deci(n))))\n",
    "        decimal = 'Decimal ' + str(octal_deci(n))\n",
    "        hexadecimal = 'Hexadecimal ' + str(deci_hexa(int(octal_deci(n))))\n",
    "        sg.Window('Conversor de Base', [\n",
    "            [sg.Text(binario)], [sg.Text(decimal)], [sg.Text(hexadecimal)]\n",
    "        ]).read()\n",
    "    elif events == 'Binário':\n",
    "        n = str(values[0])\n",
    "        octal = 'Octal ' + str(deci_octal(int(binario_deci(n))))\n",
    "        decimal = 'Decimal ' + str(binario_deci(n))\n",
    "        hexadecimal = 'Hexadecimal ' + str(deci_hexa(int(binario_deci(n))))\n",
    "        sg.Window('Conversor de Base', [\n",
    "            [sg.Text(octal)], [sg.Text(decimal)], [sg.Text(hexadecimal)]\n",
    "        ]).read()\n",
    "    elif events == 'Hexadecimal':\n",
    "        n = str(values[0])\n",
    "        binario = 'Binário ' + str(deci_binario(int(hexa_deci(n))))\n",
    "        decimal = 'Decimal ' + str(hexa_deci(n))\n",
    "        octal = 'Octal ' + str(deci_octal(int(hexa_deci(n))))\n",
    "        sg.Window('Conversor de Base', [\n",
    "            [sg.Text(binario)], [sg.Text(decimal)], [sg.Text(octal)]\n",
    "        ]).read()\n",
    "janela1.close()"
   ]
  },
  {
   "cell_type": "code",
   "execution_count": 19,
   "metadata": {},
   "outputs": [
    {
     "name": "stdout",
     "output_type": "stream",
     "text": [
      "Digite o 1º elemento: a\n",
      "Digite o 2º elemento: b\n",
      "Digite o 3º elemento: c\n",
      "Digite o 4º elemento: d\n",
      "Digite o 5º elemento: e\n",
      "Digite o 6º elemento: f\n",
      "Digite o 7º elemento: g\n",
      "Digite o 8º elemento: h\n",
      "Digite o 9º elemento: i\n",
      "Digite o 10º elemento: j\n",
      "Digite o 11º elemento: k\n",
      "Digite o 12º elemento: l\n",
      "Digite o 13º elemento: m\n",
      "Digite o 14º elemento: n\n",
      "Digite o 15º elemento: o\n",
      "Digite o 16º elemento: p\n",
      "Digite o 17º elemento: q\n",
      "Digite o 18º elemento: r\n",
      "Digite o 19º elemento: s\n",
      "Digite o 20º elemento: t\n",
      "Digite o 21º elemento: u\n",
      "Digite o 22º elemento: v\n",
      "Digite o 23º elemento: w\n",
      "Digite o 24º elemento: x\n",
      "Digite o 25º elemento: y\n",
      "Digite o 26º elemento: z\n",
      "{'a': 0, 'b': 1, 'c': 2, 'd': 3, 'e': 4, 'f': 5, 'g': 6, 'h': 7, 'i': 8, 'j': 9, 'k': 10, 'l': 11, 'm': 12, 'n': 13, 'o': 14, 'p': 15, 'q': 16, 'r': 17, 's': 18, 't': 19, 'u': 20, 'v': 21, 'w': 22, 'x': 23, 'y': 24, 'z': 25}\n",
      "{0: 'a', 1: 'b', 2: 'c', 3: 'd', 4: 'e', 5: 'f', 6: 'g', 7: 'h', 8: 'i', 9: 'j', 10: 'k', 11: 'l', 12: 'm', 13: 'n', 14: 'o', 15: 'p', 16: 'q', 17: 'r', 18: 's', 19: 't', 20: 'u', 21: 'v', 22: 'w', 23: 'x', 24: 'y', 25: 'z'}\n",
      "<class 'dict'>\n"
     ]
    }
   ],
   "source": [
    "cod = dict({})\n",
    "valorcod = dict({})\n",
    "for i in range(1, 27):\n",
    "   e = input(f'Digite o {1 + len(cod)}º elemento: ')\n",
    "   cod[len(cod)] = e\n",
    "   valorcod[e] = len(cod) - 1\n",
    "print(valorcod)\n",
    "print(cod)\n",
    "print(type(cod))"
   ]
  },
  {
   "cell_type": "code",
   "execution_count": 5,
   "metadata": {},
   "outputs": [
    {
     "data": {
      "text/plain": [
       "'OK'"
      ]
     },
     "execution_count": 5,
     "metadata": {},
     "output_type": "execute_result"
    }
   ],
   "source": [
    "import PySimpleGUI as sg      \n",
    "\n",
    "layout = [[sg.Text('My one-shot window.')],      \n",
    "                 [sg.InputText()],      \n",
    "                 [sg.Submit(), sg.Cancel()]]      \n",
    "\n",
    "window = sg.Window('Titulo da janela', layout)    \n",
    "\n",
    "event, values = window.read()    \n",
    "window.close()\n",
    "\n",
    "text_input = values[0] + ' Seja Bem-Vindo!'  # define a variável text_input como values[0] e outra coisa  \n",
    "sg.popup('You entered', text_input) # inicia uma nova janela, com titulo 'you entered' e layout igual ao text_input"
   ]
  },
  {
   "cell_type": "markdown",
   "metadata": {},
   "source": [
    "O código abaixo é outra versão do desse mostrado acima, porém, atribuindo nomes aos elementos de values"
   ]
  },
  {
   "cell_type": "code",
   "execution_count": 8,
   "metadata": {},
   "outputs": [
    {
     "data": {
      "text/plain": [
       "'OK'"
      ]
     },
     "execution_count": 8,
     "metadata": {},
     "output_type": "execute_result"
    }
   ],
   "source": [
    "import PySimpleGUI as sg      \n",
    "\n",
    "layout = [[sg.Text('Qual é o seu nome?')],      \n",
    "                 [sg.InputText(key='entrada')],      \n",
    "                 [sg.Submit(), sg.Cancel()]]      \n",
    "\n",
    "window = sg.Window('Título da Janela', layout)    \n",
    "\n",
    "event, values = window.read()    \n",
    "window.close()\n",
    "\n",
    "text_input = values['entrada'] + ', Seja Bem-Vindo!' \n",
    "sg.popup('Você entrou', text_input)"
   ]
  },
  {
   "cell_type": "code",
   "execution_count": 7,
   "metadata": {},
   "outputs": [
    {
     "name": "stdout",
     "output_type": "stream",
     "text": [
      "41.35873653645943\n",
      "41.35873653645941\n",
      "False\n",
      "1.9128754138944695\n"
     ]
    },
    {
     "data": {
      "text/plain": [
       "1.0"
      ]
     },
     "execution_count": 7,
     "metadata": {},
     "output_type": "execute_result"
    }
   ],
   "source": [
    "from math import log\n",
    "from math import exp\n",
    "\n",
    "x = log(59, 7)/ (log(59, 7) - 1)\n",
    "\n",
    "print(7 ** x)\n",
    "print(59 ** (x - 1))\n",
    "print(7 ** x == 59 ** (x - 1))\n",
    "print(x)"
   ]
  },
  {
   "cell_type": "code",
   "execution_count": null,
   "metadata": {},
   "outputs": [],
   "source": [
    "from math import log\n",
    "\n",
    "log(2 ** 0.5, (((2)**0.5)2**0.5)2)"
   ]
  },
  {
   "cell_type": "markdown",
   "metadata": {},
   "source": [
    "Relembrando de algumas funções importantes.\n",
    "Função map e função lambda.\n",
    "A função map tem dois argumentos, o primeiro é a função e o segundo é a lista sobre a qual a função será aplicada. O resultado é um objeto de classe map cujo os elementos são a imagem da função dos elementos da lista do segundo argumento.\n",
    "A função lambda nos permite definir uma função em uma única linha, ou seja, é de extrema simplicidade e coveniencia. Para usar a função lambda escrevemos lambda i: 'definiçã da função'."
   ]
  },
  {
   "cell_type": "code",
   "execution_count": 4,
   "metadata": {},
   "outputs": [
    {
     "name": "stdout",
     "output_type": "stream",
     "text": [
      "[1, 4, 9, 16, 25, 36, 49, 64, 81, 100]\n"
     ]
    }
   ],
   "source": [
    "def potencia(n,p):\n",
    "    return n ** p\n",
    "lista = [i for i in range(1, 11)]\n",
    "\n",
    "quadrados = list(map(lambda i: potencia(i, 2), lista))\n",
    "\n",
    "print(quadrados)"
   ]
  },
  {
   "cell_type": "markdown",
   "metadata": {},
   "source": [
    "Uma função muito parecida com a map é a função filter. Ela também retorna dois valores, porém, ao contrário da função map que retorna a imagem de todos os elementos da lista que fazem parte do domínio da função e retorna none para aqueles elementos que não estão no domínio, a função filter não retorna nada para aqueles elementos que não estão no domínio da função. "
   ]
  },
  {
   "cell_type": "code",
   "execution_count": 6,
   "metadata": {},
   "outputs": [
    {
     "name": "stdout",
     "output_type": "stream",
     "text": [
      "[2, 4, 6, 8, 10, 12, 14, 16, 18, 20]\n"
     ]
    }
   ],
   "source": [
    "def pares(n):\n",
    "    if n % 2 == 0:\n",
    "        return n\n",
    "I20 = [i for i in range(1, 21)]\n",
    "\n",
    "pares = list(filter(pares, I20))\n",
    "\n",
    "print(pares)"
   ]
  },
  {
   "cell_type": "code",
   "execution_count": 42,
   "metadata": {},
   "outputs": [
    {
     "name": "stdout",
     "output_type": "stream",
     "text": [
      "input da função: x ** 2\n",
      "Quantas interações deseja fazer? 20\n",
      "Qual o valor inicial de x? -4\n",
      "-3.81469726562500e-6\n"
     ]
    }
   ],
   "source": [
    "# Newton - Raphson\n",
    "\n",
    "from sympy import *\n",
    "\n",
    "x = var('x')\n",
    "f = input('input da função: ')\n",
    "q = int(input('Quantas interações deseja fazer? '))\n",
    "v = float(input('Qual o valor inicial de x? '))\n",
    "\n",
    "j = 0\n",
    "\n",
    "for i in range(1, q + 1):\n",
    "    \n",
    "    j += v - (Sum(f, (x, v, v)).evalf()) / (Sum(diff(f), (x, v, v)).evalf())\n",
    "    v = j\n",
    "    j = 0\n",
    "\n",
    "print(v)\n"
   ]
  },
  {
   "cell_type": "code",
   "execution_count": 33,
   "metadata": {},
   "outputs": [
    {
     "data": {
      "image/png": "[encoded data removed]",
      "text/latex": [
       "$\\displaystyle \\left\\{1, 2, 3\\right\\}$"
      ],
      "text/plain": [
       "{1, 2, 3}"
      ]
     },
     "execution_count": 33,
     "metadata": {},
     "output_type": "execute_result"
    }
   ],
   "source": [
    "solveset(Eq(-x ** 3 + 6 * x ** 2 - 11 * x + 6, 0), x)"
   ]
  },
  {
   "cell_type": "code",
   "execution_count": 13,
   "metadata": {},
   "outputs": [
    {
     "name": "stdout",
     "output_type": "stream",
     "text": [
      "Qual é o valor do saque: 376\n",
      "3 notas de 100 reais\n",
      "Uma nota de 50 reais\n",
      "Uma nota de 20 reais\n",
      "Uma nota de 5 reais\n",
      "Uma nota de 1 reais\n"
     ]
    }
   ],
   "source": [
    "# Exercício\n",
    "\n",
    "saque = int(input('Qual é o valor do saque: '))\n",
    "\n",
    "sedulas = [100, 50, 20, 10, 5, 2, 1]\n",
    "\n",
    "quantidade = [0,0,0,0,0,0,0]\n",
    "\n",
    "j = 0\n",
    "\n",
    "for i in sedulas:\n",
    "    quantidade[j] = saque // i\n",
    "    j = j + 1\n",
    "    saque = saque - (saque // i) * i\n",
    "    \n",
    "for i in range(0,7):\n",
    "    if quantidade[i] != 0:\n",
    "        if quantidade[i] == 1:\n",
    "            print(f'Uma nota de {sedulas[i]} reais')\n",
    "        else:\n",
    "            print(f'{quantidade[i]} notas de {sedulas[i]} reais')"
   ]
  },
  {
   "cell_type": "code",
   "execution_count": 15,
   "metadata": {},
   "outputs": [
    {
     "name": "stdout",
     "output_type": "stream",
     "text": [
      "0 0\n",
      "0 1\n",
      "1 0\n",
      "1 1\n"
     ]
    }
   ],
   "source": [
    "# Nested while loop\n",
    "\n",
    "i = 0\n",
    "n = 1\n",
    "\n",
    "while i <= n:\n",
    "    j = 0\n",
    "    while j <=n:\n",
    "        print(i, j)\n",
    "        j = j + 1\n",
    "    i = i + 1"
   ]
  },
  {
   "cell_type": "code",
   "execution_count": 24,
   "metadata": {},
   "outputs": [
    {
     "name": "stdout",
     "output_type": "stream",
     "text": [
      "Quantas empresas estão no estudo: 2\n",
      "Quantos meses estão sendo avaliados: 1\n",
      "Informe o lucro e os custos da 1º empresa:\n",
      "No 1º mês:\n",
      "Lucro: 4000\n",
      "Custos: 700000\n",
      "O prejuízo da 1ª empresa no 1º mês foi de 696000.0 reais\n",
      "Informe o lucro e os custos da 2º empresa:\n",
      "No 1º mês:\n",
      "Lucro: 304\n",
      "Custos: 284\n",
      "O lucro líquido da 2ª empresa no 1º mês foi de 20.0 reais\n"
     ]
    }
   ],
   "source": [
    "# aplicação do Nested while loop\n",
    "# É pedido a quantidade de empresas e a dois valores, sendo o primeiro o lucro e o segundo os gastos.\n",
    "# Deve-se ter como saída o lucro líquido ou o prejuízo de cada empresa.\n",
    "'''\n",
    "qtdE = int(input('Quantas empresas estão no estudo: '))\n",
    "i = 0\n",
    "resultado = []\n",
    "while i < qtdE:\n",
    "    print(f'Informe o lucro e os custos da {i + 1}º empresa:')\n",
    "    lucro = float(input('Lucro: '))\n",
    "    custo = float(input('Custos: '))\n",
    "    resultado.append(lucro - custo)\n",
    "    i = i + 1\n",
    "for k in range(0,qtdE):\n",
    "    if resultado[k] < 0:\n",
    "        print(f'Na {k + 1}º empresa houve um prejuízo de {resultado[k]} reais')\n",
    "    else:\n",
    "        print(f'Na {k + 1}º empresa houve um lucro líquido de {resultado[k]} reais')\n",
    "'''\n",
    "# essa solução não usou o nested while loop. Vamos usá-lo agora. A diferença agora é que o calculo do lucro deve ser feito\n",
    "# em cada mês.\n",
    "\n",
    "qtdE = int(input('Quantas empresas estão no estudo: '))\n",
    "qtdM = int(input('Quantos meses estão sendo avaliados: '))\n",
    "i = 0\n",
    "while i < qtdE:\n",
    "    j = 0\n",
    "    print(f'Informe o lucro e os custos da {i + 1}º empresa:')\n",
    "    while j < qtdM:\n",
    "        print(f'No {j + 1}º mês:')\n",
    "        lucro = float(input('Lucro: '))\n",
    "        custo = float(input('Custos: '))\n",
    "        if (lucro - custo) < 0:\n",
    "            print(f'O prejuízo da {i + 1}ª empresa no {j + 1}º mês foi de {abs(lucro - custo)} reais')\n",
    "        else:\n",
    "            print(f'O lucro líquido da {i + 1}ª empresa no {j + 1}º mês foi de {lucro - custo} reais')\n",
    "        j = j + 1\n",
    "    i = i + 1"
   ]
  },
  {
   "cell_type": "code",
   "execution_count": 33,
   "metadata": {},
   "outputs": [
    {
     "name": "stdout",
     "output_type": "stream",
     "text": [
      "Digite um inteiro positivo: 120\n",
      "O número 120 é um número triangular.\n"
     ]
    }
   ],
   "source": [
    "# Testar se um número é triangular. Um número é triangular se ele for igual ao produto de três inteiros positivos\n",
    "# e consecutivos\n",
    "n = int(input('Digite um inteiro positivo: '))\n",
    "i = 1\n",
    "lista = []\n",
    "while i * (i + 1) * (i + 2) <= n:\n",
    "    if i * (i + 1) * (i + 2) < n:\n",
    "        i += 1\n",
    "        lista.append(1)\n",
    "    elif (i * (i + 1) * (i + 2)) == n:\n",
    "        print(f'O número {n} é um número triangular.')\n",
    "        lista.clear()\n",
    "        break\n",
    "if len(lista) != 0:\n",
    "    print(f'O número {n} não é triangular.')"
   ]
  },
  {
   "cell_type": "code",
   "execution_count": 18,
   "metadata": {},
   "outputs": [
    {
     "name": "stdout",
     "output_type": "stream",
     "text": [
      "Digite a quantidade de termos: 100\n",
      "Digite o argumento da função: 0.432\n",
      "Polinômio de taylor: 0.4077847386773899\n",
      "Valor exato de arctg: 0.40778473867738985\n"
     ]
    }
   ],
   "source": [
    "import math\n",
    "k = 0\n",
    "n = int(input('Digite a quantidade de termos: '))\n",
    "x = float(input('Digite o argumento da função: '))\n",
    "for i in range(1, n + 1):\n",
    "    k += ((-1) ** (i + 1)) * ((x) ** (2 * i - 1))/(2 * i - 1)\n",
    "print(f'Polinômio de taylor: {k}')\n",
    "print(f'Valor exato de arctg: {math.atan(x)}')"
   ]
  },
  {
   "cell_type": "code",
   "execution_count": 7,
   "metadata": {},
   "outputs": [
    {
     "name": "stdout",
     "output_type": "stream",
     "text": [
      "Jogo de adivinhe: eu escolherei um número de 0 a 100 e você deve tentar adivinhar esse número.\n",
      "Para auxiliar, ficará disponível todas as tentativas.\n"
     ]
    },
    {
     "ename": "NameError",
     "evalue": "name 'randint' is not defined",
     "output_type": "error",
     "traceback": [
      "\u001b[1;31m---------------------------------------------------------------------------\u001b[0m",
      "\u001b[1;31mNameError\u001b[0m                                 Traceback (most recent call last)",
      "\u001b[1;32m<ipython-input-7-048e896ded3b>\u001b[0m in \u001b[0;36m<module>\u001b[1;34m\u001b[0m\n\u001b[0;32m      3\u001b[0m \u001b[0mprint\u001b[0m\u001b[1;33m(\u001b[0m\u001b[1;34m'Jogo de adivinhe: eu escolherei um número de 0 a 100 e você deve tentar adivinhar esse número.'\u001b[0m\u001b[1;33m)\u001b[0m\u001b[1;33m\u001b[0m\u001b[1;33m\u001b[0m\u001b[0m\n\u001b[0;32m      4\u001b[0m \u001b[0mprint\u001b[0m\u001b[1;33m(\u001b[0m\u001b[1;34m'Para auxiliar, ficará disponível todas as tentativas.'\u001b[0m\u001b[1;33m)\u001b[0m\u001b[1;33m\u001b[0m\u001b[1;33m\u001b[0m\u001b[0m\n\u001b[1;32m----> 5\u001b[1;33m \u001b[0me\u001b[0m \u001b[1;33m=\u001b[0m \u001b[0mrandint\u001b[0m\u001b[1;33m(\u001b[0m\u001b[1;36m0\u001b[0m\u001b[1;33m,\u001b[0m \u001b[1;36m101\u001b[0m\u001b[1;33m)\u001b[0m\u001b[1;33m\u001b[0m\u001b[1;33m\u001b[0m\u001b[0m\n\u001b[0m\u001b[0;32m      6\u001b[0m \u001b[0mprint\u001b[0m\u001b[1;33m(\u001b[0m\u001b[0me\u001b[0m\u001b[1;33m)\u001b[0m\u001b[1;33m\u001b[0m\u001b[1;33m\u001b[0m\u001b[0m\n",
      "\u001b[1;31mNameError\u001b[0m: name 'randint' is not defined"
     ]
    }
   ],
   "source": [
    "import random\n",
    "# Após o final do jogo, o jogador deve ter a opição de recomeçar.\n",
    "print('Jogo de adivinhe: eu escolherei um número de 0 a 100 e você deve tentar adivinhar esse número.')\n",
    "print('Para auxiliar, ficará disponível todas as tentativas.')\n",
    "e = randint(0, 101)\n",
    "print(e)"
   ]
  },
  {
   "cell_type": "code",
   "execution_count": 14,
   "metadata": {},
   "outputs": [],
   "source": [
    "init_printing(pretty_print=true)\n",
    "x = Symbol(\"x\")\n",
    "t = Symbol(\"t\")"
   ]
  },
  {
   "cell_type": "code",
   "execution_count": 8,
   "metadata": {},
   "outputs": [
    {
     "data": {
      "image/png": "[encoded data removed]",
      "text/latex": [
       "$\\displaystyle x^{2} + \\sin{\\left(2 x \\right)}$"
      ],
      "text/plain": [
       " 2           \n",
       "x  + sin(2⋅x)"
      ]
     },
     "execution_count": 8,
     "metadata": {},
     "output_type": "execute_result"
    }
   ],
   "source": [
    "x**2+sin(2*x)"
   ]
  },
  {
   "cell_type": "code",
   "execution_count": 11,
   "metadata": {},
   "outputs": [
    {
     "data": {
      "image/png": "[encoded data removed]",
      "text/latex": [
       "$\\displaystyle 2 x + 3 \\sin{\\left(2 x \\right)} \\sin{\\left(3 x \\right)} - 2 \\cos{\\left(2 x \\right)} \\cos{\\left(3 x \\right)}$"
      ],
      "text/plain": [
       "2⋅x + 3⋅sin(2⋅x)⋅sin(3⋅x) - 2⋅cos(2⋅x)⋅cos(3⋅x)"
      ]
     },
     "execution_count": 11,
     "metadata": {},
     "output_type": "execute_result"
    }
   ],
   "source": [
    "(x**2-cos(3*x)*sin(2*x)).diff(x)"
   ]
  },
  {
   "cell_type": "code",
   "execution_count": 17,
   "metadata": {},
   "outputs": [
    {
     "data": {
      "image/png": "[encoded data removed]",
      "text/latex": [
       "$\\displaystyle \\frac{d}{d x} \\left(x^{2} - \\sin{\\left(2 x \\right)} \\cos{\\left(3 x \\right)}\\right)$"
      ],
      "text/plain": [
       "d ⎛ 2                    ⎞\n",
       "──⎝x  - sin(2⋅x)⋅cos(3⋅x)⎠\n",
       "dx                        "
      ]
     },
     "execution_count": 17,
     "metadata": {},
     "output_type": "execute_result"
    }
   ],
   "source": [
    "Derivative((x**2-cos(3*x)*sin(2*x)))"
   ]
  },
  {
   "cell_type": "code",
   "execution_count": 21,
   "metadata": {},
   "outputs": [
    {
     "data": {
      "image/png": "[encoded data removed]",
      "text/latex": [
       "$\\displaystyle \\int \\left(x^{2} - \\sin{\\left(2 x \\right)} \\cos{\\left(3 x \\right)}\\right)\\, dx$"
      ],
      "text/plain": [
       "⌠                            \n",
       "⎮ ⎛ 2                    ⎞   \n",
       "⎮ ⎝x  - sin(2⋅x)⋅cos(3⋅x)⎠ dx\n",
       "⌡                            "
      ]
     },
     "execution_count": 21,
     "metadata": {},
     "output_type": "execute_result"
    }
   ],
   "source": [
    "Integral((x**2-cos(3*x)*sin(2*x)))"
   ]
  },
  {
   "cell_type": "code",
   "execution_count": 23,
   "metadata": {},
   "outputs": [
    {
     "data": {
      "image/png": "[encoded data removed]",
      "text/latex": [
       "$\\displaystyle \\frac{x^{3}}{3} - \\frac{3 \\sin{\\left(2 x \\right)} \\sin{\\left(3 x \\right)}}{5} - \\frac{2 \\cos{\\left(2 x \\right)} \\cos{\\left(3 x \\right)}}{5}$"
      ],
      "text/plain": [
       " 3                                            \n",
       "x    3⋅sin(2⋅x)⋅sin(3⋅x)   2⋅cos(2⋅x)⋅cos(3⋅x)\n",
       "── - ─────────────────── - ───────────────────\n",
       "3             5                     5         "
      ]
     },
     "execution_count": 23,
     "metadata": {},
     "output_type": "execute_result"
    }
   ],
   "source": [
    "Integral((x**2-cos(3*x)*sin(2*x))).doit()"
   ]
  },
  {
   "cell_type": "code",
   "execution_count": 28,
   "metadata": {},
   "outputs": [
    {
     "data": {
      "image/png": "[encoded data removed]",
      "text/latex": [
       "$\\displaystyle \\frac{\\sqrt{\\pi} \\operatorname{erf}{\\left(x \\right)}}{2}$"
      ],
      "text/plain": [
       "√π⋅erf(x)\n",
       "─────────\n",
       "    2    "
      ]
     },
     "execution_count": 28,
     "metadata": {},
     "output_type": "execute_result"
    }
   ],
   "source": [
    "Integral(exp(-x**2)).doit()"
   ]
  },
  {
   "cell_type": "code",
   "execution_count": 31,
   "metadata": {},
   "outputs": [
    {
     "data": {
      "image/png": "[encoded data removed]",
      "text/latex": [
       "$\\displaystyle \\frac{x^{3}}{3} - \\frac{3 \\sin{\\left(2 x \\right)} \\sin{\\left(3 x \\right)}}{5} - \\frac{2 \\cos{\\left(2 x \\right)} \\cos{\\left(3 x \\right)}}{5}$"
      ],
      "text/plain": [
       " 3                                            \n",
       "x    3⋅sin(2⋅x)⋅sin(3⋅x)   2⋅cos(2⋅x)⋅cos(3⋅x)\n",
       "── - ─────────────────── - ───────────────────\n",
       "3             5                     5         "
      ]
     },
     "execution_count": 31,
     "metadata": {},
     "output_type": "execute_result"
    }
   ],
   "source": [
    "integrate((x**2-cos(3*x)*sin(2*x)))"
   ]
  },
  {
   "cell_type": "code",
   "execution_count": 33,
   "metadata": {},
   "outputs": [
    {
     "data": {
      "image/png": "[encoded data removed]",
      "text/latex": [
       "$\\displaystyle f{\\left(x \\right)} = C_{1} \\sin{\\left(\\sqrt{3} x \\right)} + C_{2} \\cos{\\left(\\sqrt{3} x \\right)}$"
      ],
      "text/plain": [
       "f(x) = C₁⋅sin(√3⋅x) + C₂⋅cos(√3⋅x)"
      ]
     },
     "execution_count": 33,
     "metadata": {},
     "output_type": "execute_result"
    }
   ],
   "source": [
    "dsolve(f(x).diff(x,2) + 3 * f(x))"
   ]
  },
  {
   "cell_type": "code",
   "execution_count": 34,
   "metadata": {},
   "outputs": [
    {
     "data": {
      "image/png": "[encoded data removed]",
      "text/latex": [
       "$\\displaystyle f{\\left(x \\right)} = C_{1} e^{x}$"
      ],
      "text/plain": [
       "           x\n",
       "f(x) = C₁⋅ℯ "
      ]
     },
     "execution_count": 34,
     "metadata": {},
     "output_type": "execute_result"
    }
   ],
   "source": [
    "dsolve(f(x).diff(x) - f(x))"
   ]
  },
  {
   "cell_type": "code",
   "execution_count": 38,
   "metadata": {},
   "outputs": [
    {
     "data": {
      "image/png": "[encoded data removed]",
      "text/latex": [
       "$\\displaystyle f{\\left(x \\right)} = C_{2} \\cos{\\left(2 x \\right)} + \\left(C_{1} + 2 x\\right) \\sin{\\left(2 x \\right)}$"
      ],
      "text/plain": [
       "f(x) = C₂⋅cos(2⋅x) + (C₁ + 2⋅x)⋅sin(2⋅x)"
      ]
     },
     "execution_count": 38,
     "metadata": {},
     "output_type": "execute_result"
    }
   ],
   "source": [
    "dsolve(f(x).diff(x, 2) + 4 * f(x) - 8 * cos(2*x))"
   ]
  },
  {
   "cell_type": "code",
   "execution_count": 39,
   "metadata": {},
   "outputs": [
    {
     "data": {
      "image/png": "[encoded data removed]",
      "text/latex": [
       "$\\displaystyle f{\\left(x \\right)} = C_{1} + C_{2} x + 2 \\sin{\\left(x \\right)}$"
      ],
      "text/plain": [
       "f(x) = C₁ + C₂⋅x + 2⋅sin(x)"
      ]
     },
     "execution_count": 39,
     "metadata": {},
     "output_type": "execute_result"
    }
   ],
   "source": [
    "dsolve(f(x).diff(x, 2) + 2 * sin(x))"
   ]
  },
  {
   "cell_type": "code",
   "execution_count": 41,
   "metadata": {},
   "outputs": [],
   "source": [
    "class Cafe():\n",
    "    def __init__(self, nome, tipo):\n",
    "        self._nome = nome\n",
    "        self._tipo = tipo\n",
    "    \n",
    "    def comer(self):\n",
    "        print(f'Eu gosto de comer {self._nome}')\n",
    "    \n",
    "    def beber(self):\n",
    "        print(f'Eu gosto de beber {self._nome}')"
   ]
  },
  {
   "cell_type": "code",
   "execution_count": 4,
   "metadata": {},
   "outputs": [
    {
     "data": {
      "image/png": "[encoded data removed]",
      "text/latex": [
       "$\\displaystyle 1 + x + \\frac{x^{2}}{2} + \\frac{x^{3}}{6} + \\frac{x^{4}}{24} + \\frac{x^{5}}{120} + O\\left(x^{6}\\right)$"
      ],
      "text/plain": [
       "         2    3    4     5        \n",
       "        x    x    x     x     ⎛ 6⎞\n",
       "1 + x + ── + ── + ── + ─── + O⎝x ⎠\n",
       "        2    6    24   120        "
      ]
     },
     "execution_count": 4,
     "metadata": {},
     "output_type": "execute_result"
    }
   ],
   "source": [
    "series(exp(x), x)"
   ]
  },
  {
   "cell_type": "code",
   "execution_count": 8,
   "metadata": {},
   "outputs": [
    {
     "data": {
      "image/png": "[encoded data removed]",
      "text/latex": [
       "$\\displaystyle x - \\frac{x^{3}}{6} + \\frac{x^{5}}{120} + O\\left(x^{6}\\right)$"
      ],
      "text/plain": [
       "     3     5        \n",
       "    x     x     ⎛ 6⎞\n",
       "x - ── + ─── + O⎝x ⎠\n",
       "    6    120        "
      ]
     },
     "execution_count": 8,
     "metadata": {},
     "output_type": "execute_result"
    }
   ],
   "source": [
    "series(sin(x), x)"
   ]
  },
  {
   "cell_type": "code",
   "execution_count": 9,
   "metadata": {},
   "outputs": [
    {
     "data": {
      "image/png": "[encoded data removed]",
      "text/latex": [
       "$\\displaystyle \\sin{\\left(3 \\right)} + \\left(x - 3\\right) \\cos{\\left(3 \\right)} - \\frac{\\left(x - 3\\right)^{2} \\sin{\\left(3 \\right)}}{2} - \\frac{\\left(x - 3\\right)^{3} \\cos{\\left(3 \\right)}}{6} + \\frac{\\left(x - 3\\right)^{4} \\sin{\\left(3 \\right)}}{24} + \\frac{\\left(x - 3\\right)^{5} \\cos{\\left(3 \\right)}}{120} + O\\left(\\left(x - 3\\right)^{6}; x\\rightarrow 3\\right)$"
      ],
      "text/plain": [
       "                                 2                 3                 4        \n",
       "                          (x - 3) ⋅sin(3)   (x - 3) ⋅cos(3)   (x - 3) ⋅sin(3) \n",
       "sin(3) + (x - 3)⋅cos(3) - ─────────────── - ─────────────── + ─────────────── \n",
       "                                 2                 6                 24       \n",
       "\n",
       "         5                            \n",
       "  (x - 3) ⋅cos(3)    ⎛       6       ⎞\n",
       "+ ─────────────── + O⎝(x - 3) ; x → 3⎠\n",
       "        120                           "
      ]
     },
     "execution_count": 9,
     "metadata": {},
     "output_type": "execute_result"
    }
   ],
   "source": [
    "series(sin(x), x, 3)"
   ]
  },
  {
   "cell_type": "code",
   "execution_count": 12,
   "metadata": {},
   "outputs": [
    {
     "data": {
      "image/png": "[encoded data removed]",
      "text/latex": [
       "$\\displaystyle x - \\frac{x^{3}}{6} + \\frac{x^{5}}{120} - \\frac{x^{7}}{5040} + \\frac{x^{9}}{362880} - \\frac{x^{11}}{39916800} + \\frac{x^{13}}{6227020800} - \\frac{x^{15}}{1307674368000} + \\frac{x^{17}}{355687428096000} + O\\left(x^{19}\\right)$"
      ],
      "text/plain": [
       "     3     5     7       9        11          13             15               \n",
       "    x     x     x       x        x           x              x                x\n",
       "x - ── + ─── - ──── + ────── - ──────── + ────────── - ───────────── + ───────\n",
       "    6    120   5040   362880   39916800   6227020800   1307674368000   3556874\n",
       "\n",
       "17               \n",
       "            ⎛ 19⎞\n",
       "──────── + O⎝x  ⎠\n",
       "28096000         "
      ]
     },
     "execution_count": 12,
     "metadata": {},
     "output_type": "execute_result"
    }
   ],
   "source": [
    "series(sin(x), x, 0, 19)"
   ]
  },
  {
   "cell_type": "code",
   "execution_count": 25,
   "metadata": {},
   "outputs": [
    {
     "data": {
      "image/png": "[encoded data removed]",
      "text/latex": [
       "$\\displaystyle \\frac{2 x}{\\sqrt{\\pi}} - \\frac{2 x^{3}}{3 \\sqrt{\\pi}} + \\frac{x^{5}}{5 \\sqrt{\\pi}} - \\frac{x^{7}}{21 \\sqrt{\\pi}} + \\frac{x^{9}}{108 \\sqrt{\\pi}} - \\frac{x^{11}}{660 \\sqrt{\\pi}} + \\frac{x^{13}}{4680 \\sqrt{\\pi}} + O\\left(x^{15}\\right)$"
      ],
      "text/plain": [
       "         3     5       7       9       11        13           \n",
       "2⋅x   2⋅x     x       x       x       x         x        ⎛ 15⎞\n",
       "─── - ──── + ──── - ───── + ────── - ────── + ─────── + O⎝x  ⎠\n",
       " √π   3⋅√π   5⋅√π   21⋅√π   108⋅√π   660⋅√π   4680⋅√π         "
      ]
     },
     "execution_count": 25,
     "metadata": {},
     "output_type": "execute_result"
    }
   ],
   "source": [
    "series((1/(sqrt(pi)))*Integral(exp(-t ** 2), (t, -x, x)), x, 0, 15)"
   ]
  },
  {
   "cell_type": "code",
   "execution_count": 23,
   "metadata": {},
   "outputs": [
    {
     "data": {
      "image/png": "[encoded data removed]",
      "text/latex": [
       "$\\displaystyle \\operatorname{erf}{\\left(x \\right)}$"
      ],
      "text/plain": [
       "erf(x)"
      ]
     },
     "execution_count": 23,
     "metadata": {},
     "output_type": "execute_result"
    }
   ],
   "source": [
    "series((1/(sqrt(pi)))*Integral(exp(-t ** 2), (t, -x, x)), 0.35, 0, 10).doit()"
   ]
  },
  {
   "cell_type": "code",
   "execution_count": 24,
   "metadata": {},
   "outputs": [
    {
     "data": {
      "image/png": "[encoded data removed]",
      "text/latex": [
       "$\\displaystyle \\frac{0.672437196180682}{\\pi^{0.5}}$"
      ],
      "text/plain": [
       "                   -0.5\n",
       "0.672437196180682⋅π    "
      ]
     },
     "execution_count": 24,
     "metadata": {},
     "output_type": "execute_result"
    }
   ],
   "source": [
    "(2*0.35/(pi**0.5))-(2*(0.35)**3/(3*(pi**0.5)))+((0.35)**5/(5*(pi**0.5)))-((0.35)**7/(21*(pi**0.5)))+((0.35)**9/(108*(pi**0.5)))"
   ]
  },
  {
   "cell_type": "code",
   "execution_count": 3,
   "metadata": {},
   "outputs": [
    {
     "data": {
      "text/latex": [
       "$\\displaystyle \\left[\\begin{matrix}1 & 2 & 3\\\\4 & 5 & 6\\\\7 & 8 & 9\\end{matrix}\\right]$"
      ],
      "text/plain": [
       "⎡1  2  3⎤\n",
       "⎢       ⎥\n",
       "⎢4  5  6⎥\n",
       "⎢       ⎥\n",
       "⎣7  8  9⎦"
      ]
     },
     "execution_count": 3,
     "metadata": {},
     "output_type": "execute_result"
    }
   ],
   "source": [
    "from sympy import *\n",
    "\n",
    "init_printing(pretty_print=True)\n",
    "\n",
    "M = Matrix([[1, 2, 3], [4, 5, 6], [7, 8, 9]])\n",
    "M"
   ]
  },
  {
   "cell_type": "code",
   "execution_count": 4,
   "metadata": {},
   "outputs": [
    {
     "data": {
      "text/latex": [
       "$\\displaystyle \\left[\\begin{matrix}1 & 2 & 3\\\\4 & 5 & 6\\\\7 & 8 & 9\\end{matrix}\\right]$"
      ],
      "text/plain": [
       "⎡1  2  3⎤\n",
       "⎢       ⎥\n",
       "⎢4  5  6⎥\n",
       "⎢       ⎥\n",
       "⎣7  8  9⎦"
      ]
     },
     "execution_count": 4,
     "metadata": {},
     "output_type": "execute_result"
    }
   ],
   "source": [
    "Matrix(3, 3, [1, 2, 3, 4, 5, 6, 7, 8, 9])"
   ]
  },
  {
   "cell_type": "code",
   "execution_count": 7,
   "metadata": {},
   "outputs": [
    {
     "data": {
      "text/latex": [
       "$\\displaystyle \\left[\\begin{matrix}1 & 0 & 1\\\\0 & 1 & 0\\end{matrix}\\right]$"
      ],
      "text/plain": [
       "⎡1  0  1⎤\n",
       "⎢       ⎥\n",
       "⎣0  1  0⎦"
      ]
     },
     "execution_count": 7,
     "metadata": {},
     "output_type": "execute_result"
    }
   ],
   "source": [
    "Matrix(2, 3, lambda i, j: 1 - (i + j) % 2)"
   ]
  },
  {
   "cell_type": "code",
   "execution_count": 8,
   "metadata": {},
   "outputs": [
    {
     "data": {
      "text/latex": [
       "$\\displaystyle \\left[\\begin{matrix}0 & 1 & 2\\\\1 & 2 & 3\\end{matrix}\\right]$"
      ],
      "text/plain": [
       "⎡0  1  2⎤\n",
       "⎢       ⎥\n",
       "⎣1  2  3⎦"
      ]
     },
     "execution_count": 8,
     "metadata": {},
     "output_type": "execute_result"
    }
   ],
   "source": [
    "Matrix(2, 3, lambda i, j: i + j)"
   ]
  },
  {
   "cell_type": "code",
   "execution_count": 14,
   "metadata": {},
   "outputs": [
    {
     "data": {
      "text/latex": [
       "$\\displaystyle \\left[\\begin{matrix}0 & 1 & 0\\\\1 & 0 & 1\\\\0 & 1 & 0\\end{matrix}\\right]$"
      ],
      "text/plain": [
       "⎡0  1  0⎤\n",
       "⎢       ⎥\n",
       "⎢1  0  1⎥\n",
       "⎢       ⎥\n",
       "⎣0  1  0⎦"
      ]
     },
     "execution_count": 14,
     "metadata": {},
     "output_type": "execute_result"
    }
   ],
   "source": [
    "Matrix(3, 3, lambda i, j: (i + j) % 2)"
   ]
  },
  {
   "cell_type": "code",
   "execution_count": 15,
   "metadata": {},
   "outputs": [
    {
     "data": {
      "text/latex": [
       "$\\displaystyle \\left[\\begin{matrix}1 & 0 & 1\\\\0 & 1 & 0\\\\1 & 0 & 1\\end{matrix}\\right]$"
      ],
      "text/plain": [
       "⎡1  0  1⎤\n",
       "⎢       ⎥\n",
       "⎢0  1  0⎥\n",
       "⎢       ⎥\n",
       "⎣1  0  1⎦"
      ]
     },
     "execution_count": 15,
     "metadata": {},
     "output_type": "execute_result"
    }
   ],
   "source": [
    "Matrix(3, 3, lambda i, j: 1 - ((i + j) % 2))"
   ]
  },
  {
   "cell_type": "code",
   "execution_count": 10,
   "metadata": {},
   "outputs": [
    {
     "data": {
      "image/png": "[encoded data removed]",
      "text/latex": [
       "$\\displaystyle 4 k$"
      ],
      "text/plain": [
       "4⋅k"
      ]
     },
     "execution_count": 10,
     "metadata": {},
     "output_type": "execute_result"
    }
   ],
   "source": [
    "from sympy import *\n",
    "\n",
    "init_printing(pretty_print=true)\n",
    "k = Symbol(\"k\")\n",
    "\n",
    "(1/(6*k)+1/(2*k)+1/(6*k)+1/(3*k))**-1+(1/(2*k)+1/(5*k))**-1+(1/(3*k)+1/(4*k))**-1\n"
   ]
  },
  {
   "cell_type": "code",
   "execution_count": 5,
   "metadata": {},
   "outputs": [
    {
     "name": "stdout",
     "output_type": "stream",
     "text": [
      "você deseja verificar a paridade quantos números? 5\n",
      "Digite o 1° número: 1\n",
      "Digite o 2° número: 2\n",
      "Digite o 3° número: 3\n",
      "Digite o 4° número: 4\n",
      "Digite o 5° número: 5\n",
      "Impar\n",
      "Par\n",
      "Impar\n",
      "Par\n",
      "Impar\n",
      "[]\n",
      "[1, 2, 3, 4, 5]\n"
     ]
    }
   ],
   "source": [
    "numbers = []\n",
    "n = int(input('você deseja verificar a paridade quantos números? '))\n",
    "while len(numbers) < n:\n",
    "    k = int(input(f'Digite o {len(numbers) + 1}° número: '))\n",
    "    numbers.append(k)\n",
    "def paridade(i):\n",
    "    if i % 2 == 0:\n",
    "        print('Par')\n",
    "    else:\n",
    "        print('Impar')\n",
    "print(list(filter(lambda i: paridade(i), numbers)))\n",
    "print(numbers)"
   ]
  }
 ],
 "metadata": {
  "kernelspec": {
   "display_name": "Python 3",
   "language": "python",
   "name": "python3"
  },
  "language_info": {
   "codemirror_mode": {
    "name": "ipython",
    "version": 3
   },
   "file_extension": ".py",
   "mimetype": "text/x-python",
   "name": "python",
   "nbconvert_exporter": "python",
   "pygments_lexer": "ipython3",
   "version": "3.8.10"
  }
 },
 "nbformat": 4,
 "nbformat_minor": 4
}
